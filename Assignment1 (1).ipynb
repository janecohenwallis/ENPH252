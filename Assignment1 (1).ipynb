{
 "cells": [
  {
   "cell_type": "markdown",
   "metadata": {},
   "source": [
    "ENPH 252/PHYS 250 2022W Assignment 1\n",
    "====================================\n",
    "Reply by completing this notebook, then submit it to onQ.  Document all answers.  This is open book, and you can work on this with others, but what you submit must reflect your individual work and not be copied from other sources (use of original variable names is recommended).  Rename notebook to YOURLASTNAME.ipynb before submitting."
   ]
  },
  {
   "cell_type": "markdown",
   "metadata": {},
   "source": [
    "Student lastname and name:\n",
    "-------------------------"
   ]
  },
  {
   "cell_type": "markdown",
   "metadata": {
    "jp-MarkdownHeadingCollapsed": true,
    "tags": []
   },
   "source": [
    "Q1)\n",
    "---\n",
    "Define variables for complex numbers 5+j and 4-3j, as well as for their sum and product, and determine magnitude, phase, real part and imaginary part, and conjugate of each."
   ]
  },
  {
   "cell_type": "markdown",
   "metadata": {},
   "source": [
    "Q2)\n",
    "---\n",
    "Print the results from the previous question, including headers, using a loop, to make it easy to read."
   ]
  },
  {
   "cell_type": "markdown",
   "metadata": {},
   "source": [
    "Q3)\n",
    "---\n",
    "Define a function that takes two complex impedances as variables, and returns a dictionnary with the parallel and series impedances"
   ]
  },
  {
   "cell_type": "markdown",
   "metadata": {},
   "source": [
    "Q4)\n",
    "---\n",
    "Plot (as a function of angular frequency), the magnitude and the phase of the impedance resulting from a resistor (1.2 kOhm) and inductor (1.5 mH) in parallel.  Use a logarithmic axis for the frequency, and for the magnitude. Use the range [10, 10**10] rad/s.  The impedance of an inductance L is $L j \\omega$.  Label axes."
   ]
  },
  {
   "cell_type": "markdown",
   "metadata": {},
   "source": [
    "Q5)\n",
    "---\n",
    "Read the txt file DataFileA1Q5.txt. Plot the second \n",
    "column (Velocity in m/s) vs the first (Temperature in K)\n",
    "Be sure to label axes and add an appropriate title.  "
   ]
  },
  {
   "cell_type": "markdown",
   "metadata": {},
   "source": [
    "Q6)\n",
    "---\n",
    "Read text file DataFileA1Q6.txt.  The data in the first and second column represents velocity and have units m/s. Plot a distribution of the first column multplied by the second column. What type of distribution is this?"
   ]
  }
 ],
 "metadata": {
  "kernelspec": {
   "display_name": "Python 3 (ipykernel)",
   "language": "python",
   "name": "python3"
  },
  "language_info": {
   "codemirror_mode": {
    "name": "ipython",
    "version": 3
   },
   "file_extension": ".py",
   "mimetype": "text/x-python",
   "name": "python",
   "nbconvert_exporter": "python",
   "pygments_lexer": "ipython3",
   "version": "3.9.5"
  }
 },
 "nbformat": 4,
 "nbformat_minor": 4
}
